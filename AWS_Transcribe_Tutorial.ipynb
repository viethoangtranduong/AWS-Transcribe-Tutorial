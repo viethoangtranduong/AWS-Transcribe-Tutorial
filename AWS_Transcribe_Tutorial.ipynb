{
  "nbformat": 4,
  "nbformat_minor": 0,
  "metadata": {
    "colab": {
      "name": "AWS Transcribe Tutorial.ipynb",
      "provenance": []
    },
    "kernelspec": {
      "name": "python3",
      "display_name": "Python 3"
    }
  },
  "cells": [
    {
      "cell_type": "markdown",
      "metadata": {
        "id": "rFjA_HIurMwL",
        "colab_type": "text"
      },
      "source": [
        "### **Import packages**"
      ]
    },
    {
      "cell_type": "code",
      "metadata": {
        "id": "ToJdrttfq5AM",
        "colab_type": "code",
        "outputId": "46c39a85-fa18-4925-b9eb-e365adb2c004",
        "colab": {
          "base_uri": "https://localhost:8080/",
          "height": 179
        }
      },
      "source": [
        "!pip install boto3\n",
        "\n",
        "import pandas as pd\n",
        "import time\n",
        "import boto3"
      ],
      "execution_count": 0,
      "outputs": [
        {
          "output_type": "stream",
          "text": [
            "Requirement already satisfied: boto3 in /usr/local/lib/python3.6/dist-packages (1.10.18)\n",
            "Requirement already satisfied: s3transfer<0.3.0,>=0.2.0 in /usr/local/lib/python3.6/dist-packages (from boto3) (0.2.1)\n",
            "Requirement already satisfied: jmespath<1.0.0,>=0.7.1 in /usr/local/lib/python3.6/dist-packages (from boto3) (0.9.4)\n",
            "Requirement already satisfied: botocore<1.14.0,>=1.13.18 in /usr/local/lib/python3.6/dist-packages (from boto3) (1.13.18)\n",
            "Requirement already satisfied: python-dateutil<2.8.1,>=2.1; python_version >= \"2.7\" in /usr/local/lib/python3.6/dist-packages (from botocore<1.14.0,>=1.13.18->boto3) (2.6.1)\n",
            "Requirement already satisfied: urllib3<1.26,>=1.20; python_version >= \"3.4\" in /usr/local/lib/python3.6/dist-packages (from botocore<1.14.0,>=1.13.18->boto3) (1.24.3)\n",
            "Requirement already satisfied: docutils<0.16,>=0.10 in /usr/local/lib/python3.6/dist-packages (from botocore<1.14.0,>=1.13.18->boto3) (0.15.2)\n",
            "Requirement already satisfied: six>=1.5 in /usr/local/lib/python3.6/dist-packages (from python-dateutil<2.8.1,>=2.1; python_version >= \"2.7\"->botocore<1.14.0,>=1.13.18->boto3) (1.12.0)\n"
          ],
          "name": "stdout"
        }
      ]
    },
    {
      "cell_type": "code",
      "metadata": {
        "id": "NllJa_Vauvpu",
        "colab_type": "code",
        "colab": {}
      },
      "source": [
        ""
      ],
      "execution_count": 0,
      "outputs": []
    },
    {
      "cell_type": "markdown",
      "metadata": {
        "id": "YrP_t1j5rdix",
        "colab_type": "text"
      },
      "source": [
        "### **Initialize the job**"
      ]
    },
    {
      "cell_type": "code",
      "metadata": {
        "id": "NdFwDLMeq51T",
        "colab_type": "code",
        "colab": {}
      },
      "source": [
        "transcribe = boto3.client('transcribe',\n",
        "                          aws_access_key_id = #insert your access key ID here,\n",
        "                          aws_secret_access_key = # insert your secret access key here\n",
        "                          region_name = # region: usually, I put \"us-east-2\"\n",
        ")"
      ],
      "execution_count": 0,
      "outputs": []
    },
    {
      "cell_type": "code",
      "metadata": {
        "id": "RNfgzRWvrwBq",
        "colab_type": "code",
        "colab": {}
      },
      "source": [
        "def check_job_name(job_name):\n",
        "  job_verification = True\n",
        "  \n",
        "  # all the transcriptions\n",
        "  existed_jobs = transcribe.list_transcription_jobs()\n",
        "  \n",
        "  for job in existed_jobs['TranscriptionJobSummaries']:\n",
        "    if job_name == job['TranscriptionJobName']:\n",
        "      job_verification = False\n",
        "      break\n",
        "\n",
        "  if job_verification == False:\n",
        "    command = input(job_name + \" has existed. \\nDo you want to override the existed job (Y/N): \")\n",
        "    if command.lower() == \"y\" or command.lower() == \"yes\":\n",
        "      transcribe.delete_transcription_job(TranscriptionJobName=job_name)\n",
        "    elif command.lower() == \"n\" or command.lower() == \"no\":\n",
        "      job_name = input(\"Insert new job name? \")\n",
        "      check_job_name(job_name)\n",
        "    else: \n",
        "      print(\"Input can only be (Y/N)\")\n",
        "      command = input(job_name + \" has existed. \\nDo you want to override the existed job (Y/N): \")\n",
        "  return job_name"
      ],
      "execution_count": 0,
      "outputs": []
    },
    {
      "cell_type": "code",
      "metadata": {
        "id": "BerOkh70uwLz",
        "colab_type": "code",
        "colab": {}
      },
      "source": [
        ""
      ],
      "execution_count": 0,
      "outputs": []
    },
    {
      "cell_type": "markdown",
      "metadata": {
        "id": "76bmU9eSr0WH",
        "colab_type": "text"
      },
      "source": [
        "#### **For Single Speaker files**"
      ]
    },
    {
      "cell_type": "code",
      "metadata": {
        "id": "CEtocAOJrv-u",
        "colab_type": "code",
        "colab": {}
      },
      "source": [
        "def amazon_transcribe(audio_file_name):\n",
        "  job_uri = # your S3 access link\n",
        "  # Usually, I put like this to automate the process with the file name\n",
        "  # \"s3://bucket_name\" + audio_file_name \n",
        "\n",
        "  # Usually, file names have spaces and have the file extension like .mp3\n",
        "  # we take only a file name and delete all the space to name the job\n",
        "  job_name = (audio_file_name.split('.')[0]).replace(\" \", \"\")\n",
        "  \n",
        "  # file format\n",
        "  file_format = audio_file_name.split('.')[1]\n",
        "\n",
        "  # check if name is taken or not\n",
        "  job_name = check_job_name(job_name)\n",
        "  transcribe.start_transcription_job(\n",
        "      TranscriptionJobName=job_name,\n",
        "      Media={'MediaFileUri': job_uri},\n",
        "      MediaFormat = file_format,\n",
        "      LanguageCode='en-US')\n",
        "  \n",
        "  while True:\n",
        "    result = transcribe.get_transcription_job(TranscriptionJobName=job_name)\n",
        "    if result['TranscriptionJob']['TranscriptionJobStatus'] in ['COMPLETED', 'FAILED']:\n",
        "      print(\"FAILED\")\n",
        "      break\n",
        "    time.sleep(15)\n",
        "\n",
        "  if result['TranscriptionJob']['TranscriptionJobStatus'] == \"COMPLETED\":\n",
        "    data = pd.read_json(result['TranscriptionJob']['Transcript']['TranscriptFileUri'])\n",
        "  \n",
        "  return data['results'][1][0]['transcript']"
      ],
      "execution_count": 0,
      "outputs": []
    },
    {
      "cell_type": "code",
      "metadata": {
        "id": "hrDmtNbJuw5C",
        "colab_type": "code",
        "colab": {}
      },
      "source": [
        ""
      ],
      "execution_count": 0,
      "outputs": []
    },
    {
      "cell_type": "markdown",
      "metadata": {
        "id": "AEirfSA1thNl",
        "colab_type": "text"
      },
      "source": [
        "#### **For Multiple Speakers files**"
      ]
    },
    {
      "cell_type": "code",
      "metadata": {
        "id": "LD-kjcNorwHK",
        "colab_type": "code",
        "colab": {}
      },
      "source": [
        "def amazon_transcribe(audio_file_name, max_speakers = -1):\n",
        "\n",
        "  if max_speakers > 10:\n",
        "    raise ValueError(\"Maximum detected speakers is 10.\")\n",
        "\n",
        "  job_uri = \"s3 bucket link\" + audio_file_name \n",
        "  job_name = (audio_file_name.split('.')[0]).replace(\" \", \"\")\n",
        "  \n",
        "  # check if name is taken or not\n",
        "  job_name = check_job_name(job_name)\n",
        "  \n",
        "  if max_speakers != -1:\n",
        "    transcribe.start_transcription_job(\n",
        "        TranscriptionJobName=job_name,\n",
        "        Media={'MediaFileUri': job_uri},\n",
        "        MediaFormat=audio_file_name.split('.')[1],\n",
        "        LanguageCode='en-US',\n",
        "        Settings = {'ShowSpeakerLabels': True,\n",
        "                  'MaxSpeakerLabels': max_speakers\n",
        "                  }\n",
        "    )\n",
        "  else: \n",
        "    transcribe.start_transcription_job(\n",
        "        TranscriptionJobName=job_name,\n",
        "        Media={'MediaFileUri': job_uri},\n",
        "        MediaFormat=audio_file_name.split('.')[1],\n",
        "        LanguageCode='en-US',\n",
        "        Settings = {'ShowSpeakerLabels': True\n",
        "                  }\n",
        "    )    \n",
        "  \n",
        "  while True:\n",
        "    result = transcribe.get_transcription_job(TranscriptionJobName=job_name)\n",
        "    if result['TranscriptionJob']['TranscriptionJobStatus'] in ['COMPLETED', 'FAILED']:\n",
        "        break\n",
        "    time.sleep(15)\n",
        "  if result['TranscriptionJob']['TranscriptionJobStatus'] == 'COMPLETED':\n",
        "    data = pd.read_json(result['TranscriptionJob']['Transcript']['TranscriptFileUri'])\n",
        "  return result"
      ],
      "execution_count": 0,
      "outputs": []
    },
    {
      "cell_type": "code",
      "metadata": {
        "id": "RjG_nIOBrwFd",
        "colab_type": "code",
        "colab": {}
      },
      "source": [
        ""
      ],
      "execution_count": 0,
      "outputs": []
    },
    {
      "cell_type": "markdown",
      "metadata": {
        "id": "XO5NWgG-t1zc",
        "colab_type": "text"
      },
      "source": [
        "#### **Read the json files**"
      ]
    },
    {
      "cell_type": "code",
      "metadata": {
        "id": "9erCddjnY79J",
        "colab_type": "code",
        "colab": {}
      },
      "source": [
        "from google.colab import drive\n",
        "import sys\n",
        "import os\n",
        "\n",
        "drive.mount('/content/drive/')\n",
        "sys.path.append(\"/content/drive/My Drive/Colab Notebooks/AWS Transcribe reader\")\n",
        "os.chdir(\"/content/drive/My Drive/Colab Notebooks/AWS Transcribe reader\")"
      ],
      "execution_count": 0,
      "outputs": []
    },
    {
      "cell_type": "code",
      "metadata": {
        "id": "9YJDKplhaa4b",
        "colab_type": "code",
        "colab": {}
      },
      "source": [
        "import json\n",
        "import datetime\n",
        "import time as ptime\n",
        "\n",
        "def read_output(filename):\n",
        "  # example filename: audio.json\n",
        "  \n",
        "  # take the input as the filename\n",
        "  \n",
        "  filename = (filename).split('.')[0]\n",
        "\n",
        "  # Create an output txt file\n",
        "  print(filename+'.txt')\n",
        "  with open(filename+'.txt','w') as w:\n",
        "    with open(filename+'.json') as f:\n",
        "\n",
        "      data=json.loads(f.read())\n",
        "      labels = data['results']['speaker_labels']['segments']\n",
        "      speaker_start_times={}\n",
        "      \n",
        "      for label in labels:\n",
        "        for item in label['items']:\n",
        "          speaker_start_times[item['start_time']] = item['speaker_label']\n",
        "\n",
        "      items = data['results']['items']\n",
        "      lines = []\n",
        "      line = ''\n",
        "      time = 0\n",
        "      speaker = 'null'\n",
        "      i = 0\n",
        "\n",
        "      # loop through all elements\n",
        "      for item in items:\n",
        "        i = i+1\n",
        "        content = item['alternatives'][0]['content']\n",
        "\n",
        "        # if it's starting time\n",
        "        if item.get('start_time'):\n",
        "          current_speaker = speaker_start_times[item['start_time']]\n",
        "        \n",
        "        # in AWS output, there are types as punctuation\n",
        "        elif item['type'] == 'punctuation':\n",
        "          line = line + content\n",
        "\n",
        "        # handle different speaker\n",
        "        if current_speaker != speaker:\n",
        "          if speaker:\n",
        "            lines.append({'speaker':speaker, 'line':line, 'time':time})\n",
        "          line = content\n",
        "          speaker = current_speaker\n",
        "          time = item['start_time']\n",
        "          \n",
        "        elif item['type'] != 'punctuation':\n",
        "          line = line + ' ' + content\n",
        "      lines.append({'speaker': speaker, 'line': line,'time': time})\n",
        "\n",
        "      # sort the results by the time\n",
        "      sorted_lines = sorted(lines,key=lambda k: float(k['time']))\n",
        "\n",
        "      # write into the .txt file\n",
        "      for line_data in sorted_lines:\n",
        "        line = '[' + str(datetime.timedelta(seconds=int(round(float(line_data['time']))))) + '] ' + line_data.get('speaker') + ': ' + line_data.get('line')\n",
        "        w.write(line + '\\n\\n')"
      ],
      "execution_count": 0,
      "outputs": []
    },
    {
      "cell_type": "code",
      "metadata": {
        "id": "xn74j9QoabGa",
        "colab_type": "code",
        "colab": {}
      },
      "source": [
        ""
      ],
      "execution_count": 0,
      "outputs": []
    },
    {
      "cell_type": "markdown",
      "metadata": {
        "id": "8oXM0ZKVka1S",
        "colab_type": "text"
      },
      "source": [
        "#### **Upload files to S3 storage**"
      ]
    },
    {
      "cell_type": "code",
      "metadata": {
        "id": "9ndhroaska7f",
        "colab_type": "code",
        "colab": {}
      },
      "source": [
        "# define AWS_ACCESS_KEY_ID, AWS_SECRET_ACCESS_KEY, and bucket_name\n",
        "# bucket_name: name of s3 storage folder\n",
        "s3 = boto3.client('s3', \n",
        "  aws_access_key_id = AWS_ACCESS_KEY_ID,\n",
        "  aws_secret_access_key = AWS_SECRET_ACCESS_KEY,\n",
        "  region_name = \"us-east-2\")\n",
        "s3.upload_file(file_name, bucket_name, file_name)"
      ],
      "execution_count": 0,
      "outputs": []
    },
    {
      "cell_type": "code",
      "metadata": {
        "id": "U06rTyGNl6Ij",
        "colab_type": "code",
        "colab": {}
      },
      "source": [
        ""
      ],
      "execution_count": 0,
      "outputs": []
    },
    {
      "cell_type": "markdown",
      "metadata": {
        "id": "aHdwmM29kQte",
        "colab_type": "text"
      },
      "source": [
        "#### **Add custom vocabulary**"
      ]
    },
    {
      "cell_type": "code",
      "metadata": {
        "id": "OyO3djThu-h8",
        "colab_type": "code",
        "colab": {}
      },
      "source": [
        "def vocab_name(custom_name):\n",
        "  vocab = pd.DataFrame([['Los-Angeles', np.nan, np.nan, \"Los Angeles\"], [\"F.B.I.\", \"ɛ f b i aɪ\", np.nan, \"FBI\"], [\"Etienne\", np.nan, \"eh-tee-en\", np.nan]], columns=['Phrase', 'IPA', 'SoundsLike', 'DisplayAs'])\n",
        "  vocab.to_csv(custom_name+'.csv', header=True, index=None, sep='\\t')\n",
        "  import csv\n",
        "  import time\n",
        "  csv_file = 'custom_name+'.csv\n",
        "  txt_file = 'custom_name+'.txt\n",
        "  with open(txt_file, \"w\") as my_output_file:\n",
        "    with open(csv_file, \"r\") as my_input_file:\n",
        "      my_output_file.write(\" \".join(row)+'\\n') for row in csv.reader(my_input_file)]\n",
        "    my_output_file.close()\n",
        "  ptime.sleep(30) # wait for the file to finish\n",
        "  bucket_name = #name of the S3 bucket\n",
        "  s3.upload_file(txt_file, bucket_name, txt_file)\n",
        "  ptime.sleep(60)\n",
        "  response = transcribe.create_vocabulary(\n",
        "    VocabularyName = custom_name,\n",
        "    LanguageCode='en-US',\n",
        "    VocabularyFileUri = \"your s3 link\" + txt_file)\n",
        "    # the link usually is bucketname.region.amazonaws.com\n",
        "# after running vocab_name, we can check the status through this line\n",
        "# if it's ready, the VocabularyState will be 'READY'\n",
        "transcribe.list_vocabularies()"
      ],
      "execution_count": 0,
      "outputs": []
    }
  ]
}